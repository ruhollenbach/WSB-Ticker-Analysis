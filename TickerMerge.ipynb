{
 "cells": [
  {
   "cell_type": "code",
   "execution_count": 7,
   "metadata": {},
   "outputs": [],
   "source": [
    "##### This little routine just merges the two lists NasdaqListed and OtherExchanges \n",
    "##### of Ticker symbols downloaded from ftp.nasdaqtrader.com and extracts the relevant information\n",
    "\n",
    "import re\n",
    "import urllib.request\n",
    "\n",
    "Nasdaq = urllib.request.urlopen('http://ftp.nasdaqtrader.com/dynamic/SymDir/nasdaqlisted.txt').read() ### this file is nicely formatted and can be read without any problems\n",
    "Others = urllib.request.urlopen(\"http://ftp.nasdaqtrader.com/dynamic/SymDir/otherlisted.txt\")   ### this file on the other hand is a mess and is therefore read line by line\n",
    "CommonStock = open(\"CommonStock.txt\",'w') ### the merge is written into this file\n",
    "Tickers = open(\"Tickers.txt\",\"w\")\n",
    "\n",
    "common1 = re.findall(\"([A-Z]+\\|[A-Z].+)-.+Common Stock\",Nasdaq.decode())\n",
    "common11 = re.findall(\"([A-Z]+)\\|[A-Z].+-.+Common Stock\",Nasdaq.decode())\n",
    "common22 = list()\n",
    "common2 = list()\n",
    "\n",
    "for line in Others:\n",
    "    x = re.findall(\"^([A-Z]+\\|[A-Z].+)-* .+Common Stock\",line.decode())\n",
    "    y = re.findall(\"^([A-Z]+)\\|[A-Z].+-* .+Common Stock\",line.decode())\n",
    "    if len(x)>0:\n",
    "        common2.append(x[0])\n",
    "        common22.append(y[0])\n",
    "        \n",
    "\n",
    "common3 = list()\n",
    "common33 = list()\n",
    "\n",
    "for line in common2:\n",
    "    common3.append(re.sub('-* Class','',line)) ### the strings in common2 contain descriptions of the common stock\n",
    "                                               ###like Class A Common Stock and we don't need that information in \n",
    "                                               ### in our list\n",
    "    \n",
    "for line in common22:\n",
    "    common33.append(re.sub('-* Class','',line))\n",
    "                                                  \n",
    "for stock in common1:\n",
    "    CommonStock.write(stock+'\\n')\n",
    "\n",
    "for stock in common3:\n",
    "    CommonStock.write(stock+'\\n')\n",
    "\n",
    "for stock in common11:\n",
    "    Tickers.write(stock+'\\n')\n",
    "\n",
    "for stock in common33:\n",
    "    Tickers.write(stock+'\\n')\n",
    "    \n",
    "CommonStock.close()\n",
    "Tickers.close()\n"
   ]
  },
  {
   "cell_type": "code",
   "execution_count": null,
   "metadata": {},
   "outputs": [],
   "source": []
  }
 ],
 "metadata": {
  "kernelspec": {
   "display_name": "Python 3",
   "language": "python",
   "name": "python3"
  },
  "language_info": {
   "codemirror_mode": {
    "name": "ipython",
    "version": 3
   },
   "file_extension": ".py",
   "mimetype": "text/x-python",
   "name": "python",
   "nbconvert_exporter": "python",
   "pygments_lexer": "ipython3",
   "version": "3.8.5"
  }
 },
 "nbformat": 4,
 "nbformat_minor": 4
}
